{
 "cells": [
  {
   "cell_type": "markdown",
   "metadata": {
    "id": "ihsR_ew8QNCr"
   },
   "source": [
    "#COVID-19 Prediction"
   ]
  },
  {
   "cell_type": "markdown",
   "metadata": {
    "id": "OAKefO7DSUwH"
   },
   "source": [
    "Since late 2019, the world been in health crisis because of the COVID-19 pandemic. In fact, using Medical Imagery has proved to be efficient in detecting Covid-19 Infection. These Medical Imaging include: X-ray, CT-scans and Ultrasounds. The use of CT-scans is not only limited to the detection of COVID-19 cases, but they can also be used for other important tasks such quantifying the infection and monitoring the evolution of the disease, which can help in treatment and save the patient’s life. In this challenge, the participants will use a dataset labelled by two expert radiologists, who estimated the Covid-19 infection, to train and validate their approaches. In the testing phase, participants will test their approaches using a test dataset collected from various CT-scanners and recording settings."
   ]
  },
  {
   "cell_type": "markdown",
   "metadata": {
    "id": "C1SUlbVIQbXx"
   },
   "source": [
    "- In your google drive, create a folder called \"DL_Project\"\n",
    "- Place this .ipynb notebook in that folder\n",
    "- Upload the training & val dataset zip in that folder\n",
    "- Only have to do this once the very first time you are setting up project"
   ]
  },
  {
   "cell_type": "code",
   "execution_count": null,
   "metadata": {
    "colab": {
     "base_uri": "https://localhost:8080/"
    },
    "id": "_Ycwr5g60RUs",
    "outputId": "71cde041-6c80-4499-dcfa-5210a8ea71a7"
   },
   "outputs": [
    {
     "name": "stdout",
     "output_type": "stream",
     "text": [
      "Mounted at /content/drive\n"
     ]
    }
   ],
   "source": [
    "## mount google drive\n",
    "from google.colab import drive\n",
    "drive.mount('/content/drive')"
   ]
  },
  {
   "cell_type": "code",
   "execution_count": null,
   "metadata": {
    "id": "QP8GYguxqzLy"
   },
   "outputs": [],
   "source": [
    "## if you haven't unzipped training data\n",
    "#!unzip \"drive/MyDrive/DL_Project/Train.zip\" -d  \"drive/MyDrive/DL_Project/\""
   ]
  },
  {
   "cell_type": "code",
   "execution_count": null,
   "metadata": {
    "id": "KOZCN2EusO5_"
   },
   "outputs": [],
   "source": [
    "## if you haven't unzipped val data\n",
    "#!unzip \"drive/MyDrive/DL_Project/Val Blind.zip\" -d  \"drive/MyDrive/DL_Project/\""
   ]
  },
  {
   "cell_type": "markdown",
   "metadata": {
    "id": "T58rAfGwOtiP"
   },
   "source": [
    "##Challenge Dataset:\n",
    "\n",
    "The challenge has three sets: Train, Val, and Test, and we will only work with the Train set and Val set (unlabeled). \n",
    "\n",
    "The Train set is obtained from 132 CT-scans, from which 128 CT-scans has confirmed to have Covid-19 based on positive reverse transcription polymerase chain reaction (RT-PCR) and CT scan manifestations identified by two experienced thoracic radiologists. The rest four CT-scans have not any infection type (Healthy). The Val set is obtained from 57 CT-scans, from which 55 CT-scans has confirmed to have Covid-19 based on positive reverse transcription polymerase chain reaction (RT-PCR) and CT scan manifestations identified by two experienced thoracic radiologists. The rest two CT-scans have not any infection type (Healthy).\n",
    "\n",
    "The Train split has two files: Images (Slices) Folder and Labeling Folder ('.csv' file) that contains the labels for each Slice (Image)"
   ]
  },
  {
   "cell_type": "markdown",
   "metadata": {
    "id": "K8JKYqdFO4la"
   },
   "source": [
    "    Train Set\n",
    "    ├── Slices Folder \n",
    "    │      ├ Image_0000.png\n",
    "    │      ├ Image_0001.png\n",
    "    │      ├ ...\n",
    "    |      └ Image_3053.png\n",
    "    ├── Labeling Folder\n",
    "    │   └── Train.csv\n",
    "    │         ├ Slice_Name        Covid-19_percentage  Subject    \n",
    "    │         ├ Image_0000.png    0.0                  0\n",
    "    │         ├ Image_0001.png    0.0                  0\n",
    "    │         ├ ...               ...                  ..\n",
    "    │         └ Image_3053.png    40.0\t               131\n",
    "    └── "
   ]
  },
  {
   "cell_type": "markdown",
   "metadata": {
    "id": "CoiQf1kNPN0f"
   },
   "source": [
    "The Validation split has one file contains the slices images, which will be used to predict the Covid-19 infection percentage. These prediction should be saved as '.csv' file and submitted to the Codalab (https://competitions.codalab.org/competitions/35575) to evaluation the performance:"
   ]
  },
  {
   "cell_type": "markdown",
   "metadata": {
    "id": "jii5kTiMPQHQ"
   },
   "source": [
    "    Val Set\n",
    "    ├── Slices Folder \n",
    "    │      ├ Image_0000.png\n",
    "    │      ├ Image_0001.png\n",
    "    │      ├ ...\n",
    "     |      └ Image_1300.png\n",
    "    └── "
   ]
  },
  {
   "cell_type": "markdown",
   "metadata": {
    "id": "sGTBoEiXS0YP"
   },
   "source": [
    "## Deliverables"
   ]
  },
  {
   "cell_type": "markdown",
   "metadata": {
    "id": "2cwK6XnLSt4E"
   },
   "source": [
    "In the Validation phase, each team should submit the predictions of the validation data as 'predictions.csv' file, which contains the names of the slice images in the first column and the corresponding Covid-19 infection percentage estimation in the second column. **This file should be compressed as 'predictions.zip' file and submitted to CodaLab**.\n",
    "\n",
    "In order to have access to the leader board, you must do the following:\n",
    "- Participation in the Competition: Each team should request to participate in the competition on the CodaLab platform (https://competitions.codalab.org/competitions/35575) with specifying the team name, members, emails and affiliations. The team informations can be send to: faresbougourzi@gmail.com"
   ]
  },
  {
   "cell_type": "markdown",
   "metadata": {
    "id": "KT60ecgITNED"
   },
   "source": [
    "    predictions.zip\n",
    "    ├── predictions.csv\n",
    "    │      ├ Image_0000.png    Pr0            \n",
    "    │      ├ Image_0001.png    Pr1             \n",
    "    │      ├ ...               ...              \n",
    "    │      └ Image_1300.png    Pr1300\t        \n",
    "    └──   "
   ]
  },
  {
   "cell_type": "markdown",
   "metadata": {
    "id": "BoRb-o6NSiaA"
   },
   "source": [
    "## Evaluation"
   ]
  },
  {
   "cell_type": "markdown",
   "metadata": {
    "id": "YSx8S1ugSd2m"
   },
   "source": [
    "The evaluation metrics are: **Mean Absolute Error (MAE), Pearson Correlation coefficient (PC) and Root Mean Square Error (RMSE)**. The most important Evaluation Criterion is the **MAE**. In the event of two or more competitors achieve the same MAE, the PC and the RMSE are considered as the tie-breaker."
   ]
  },
  {
   "cell_type": "markdown",
   "metadata": {
    "id": "gFBUy1lBQIM5"
   },
   "source": [
    "## Custom Dataset Class"
   ]
  },
  {
   "cell_type": "code",
   "execution_count": null,
   "metadata": {
    "id": "TckWJ9O4sVJT"
   },
   "outputs": [],
   "source": [
    "## preprocess data\n",
    "## create custom data class\n",
    "\n",
    "import os\n",
    "import torch\n",
    "import pandas as pd\n",
    "from skimage import io, transform\n",
    "\n",
    "import numpy as np\n",
    "import matplotlib.pyplot as plt\n",
    "from torch.utils.data import Dataset, DataLoader\n",
    "from torchvision import transforms, utils\n",
    "import cv2\n",
    "from PIL import Image\n",
    "import glob\n",
    "\n",
    "class CovidDataset(Dataset):\n",
    "    \"\"\"Covid CT dataset.\"\"\"\n",
    "\n",
    "    def __init__(self, csv_file, root_dir, transform=None):\n",
    "        \"\"\"\n",
    "        Args:\n",
    "            csv_file (string): Path to the csv file with annotations.\n",
    "            root_dir (string): Directory with all the images.\n",
    "            transform (callable, optional): Optional transform to be applied\n",
    "                on a sample.\n",
    "        \"\"\"\n",
    "        self.label_data = pd.read_csv(csv_file)\n",
    "        self.root_dir = root_dir\n",
    "        ## you can apply custom transformation on the image for data augmentation\n",
    "        self.transform = transform\n",
    "\n",
    "    def __len__(self):\n",
    "        return len(self.label_data)\n",
    "\n",
    "    def __getitem__(self, idx):\n",
    "        if torch.is_tensor(idx):\n",
    "            idx = idx.tolist()\n",
    "\n",
    "        img_name = os.path.join(self.root_dir, self.label_data.iloc[idx, 0])\n",
    "        image = io.imread(img_name)\n",
    "        image = cv2.cvtColor(image, cv2.COLOR_BGRA2BGR)\n",
    "        image = torchvision.transforms.functional.to_tensor(image)\n",
    "        p = self.label_data.iloc[idx, 1]\n",
    "        subject_num = self.label_data.iloc[idx, 2]\n",
    "        sample = {'image': image, 'percentage': p, 'subject': subject_num, 'img_name':img_name}\n",
    "\n",
    "        # should be only applied on image, not percentage or subject #\n",
    "        if self.transform:\n",
    "            sample = self.transform(sample)\n",
    "\n",
    "        return sample"
   ]
  },
  {
   "cell_type": "code",
   "execution_count": null,
   "metadata": {
    "id": "Z0hPdBQZ3DLE"
   },
   "outputs": [],
   "source": [
    "class CovidTestDataset(Dataset):\n",
    "    \"\"\"Covid CT TEST dataset.\"\"\"\n",
    "\n",
    "    def __init__(self, root_dir, transform=None):\n",
    "        \"\"\"\n",
    "        Args:\n",
    "            root_dir (string): Directory with all the images.\n",
    "            transform (callable, optional): Optional transform to be applied\n",
    "                on a sample.\n",
    "        \"\"\"\n",
    "        self.root_dir = root_dir\n",
    "        self.image_list = []\n",
    "        for filename in glob.glob(self.root_dir+\"/*.png\"): #assuming png\n",
    "          self.image_list.append(filename)\n",
    "\n",
    "    def __len__(self):\n",
    "        return len(self.image_list)\n",
    "\n",
    "    def __getitem__(self, idx):\n",
    "        if torch.is_tensor(idx):\n",
    "            idx = idx.tolist()\n",
    "\n",
    "        img_name = self.image_list[idx]\n",
    "        image = io.imread(img_name)\n",
    "        image = cv2.cvtColor(image, cv2.COLOR_BGRA2BGR)\n",
    "        image = torchvision.transforms.functional.to_tensor(image)\n",
    "        sample = {'image': image, 'img_name':img_name}\n",
    "\n",
    "        return sample"
   ]
  },
  {
   "cell_type": "code",
   "execution_count": null,
   "metadata": {
    "id": "DmV47ZBJy1Nv"
   },
   "outputs": [],
   "source": [
    "import torchvision\n",
    "covid_dataset_train_val = CovidDataset(csv_file='drive/MyDrive/DL_Project/Train.csv',\n",
    "                                    root_dir='drive/MyDrive/DL_Project/Train'\n",
    "                                    #, transform = transforms.Compose([\n",
    "                                    #           Rescale(256),\n",
    "                                    #           RandomCrop(224),\n",
    "                                    #           ToTensor()\n",
    "                                    #       ])\n",
    "                                    )\n",
    "\n",
    "covid_dataset_test = CovidTestDataset(root_dir='drive/MyDrive/DL_Project/Val')"
   ]
  },
  {
   "cell_type": "code",
   "execution_count": null,
   "metadata": {
    "colab": {
     "base_uri": "https://localhost:8080/",
     "height": 195
    },
    "id": "rJg-KZXP1AcI",
    "outputId": "dc9ec0cb-2b7f-49a6-feb9-63942d67782e"
   },
   "outputs": [
    {
     "name": "stdout",
     "output_type": "stream",
     "text": [
      "0 torch.Size([3, 512, 512]) 0.0 0\n",
      "1 torch.Size([3, 512, 512]) 0.0 0\n",
      "2 torch.Size([3, 512, 512]) 0.0 0\n",
      "3 torch.Size([3, 512, 512]) 0.0 0\n"
     ]
    },
    {
     "data": {
      "image/png": "[encoded data removed]",
      "text/plain": [
       "<Figure size 432x288 with 4 Axes>"
      ]
     },
     "metadata": {
      "needs_background": "light"
     },
     "output_type": "display_data"
    }
   ],
   "source": [
    "## plot training example\n",
    "for i in range(len(covid_dataset_train_val)):\n",
    "    sample = covid_dataset_train_val[i]\n",
    "    print(i, sample['image'].shape, sample['percentage'], sample['subject'])\n",
    "    ax = plt.subplot(1, 4, i + 1)\n",
    "    plt.tight_layout()\n",
    "    ax.set_title('Sample #{}'.format(i))\n",
    "    ax.axis('off')\n",
    "    plt.imshow(sample['image'].numpy().transpose(1,2,0))\n",
    "    if i == 3:\n",
    "        plt.show()\n",
    "        break"
   ]
  },
  {
   "cell_type": "code",
   "execution_count": null,
   "metadata": {
    "colab": {
     "base_uri": "https://localhost:8080/",
     "height": 195
    },
    "id": "YuAZNhAB1BXs",
    "outputId": "32e9708d-48c0-40d4-acd8-58b960c1ee19"
   },
   "outputs": [
    {
     "name": "stdout",
     "output_type": "stream",
     "text": [
      "0 torch.Size([3, 512, 512]) drive/MyDrive/DL_Project/Val/Image_0304.png\n",
      "1 torch.Size([3, 512, 512]) drive/MyDrive/DL_Project/Val/Image_0303.png\n",
      "2 torch.Size([3, 512, 512]) drive/MyDrive/DL_Project/Val/Image_0301.png\n",
      "3 torch.Size([3, 512, 512]) drive/MyDrive/DL_Project/Val/Image_0302.png\n"
     ]
    },
    {
     "data": {
      "image/png": "[encoded data removed]",
      "text/plain": [
       "<Figure size 432x288 with 4 Axes>"
      ]
     },
     "metadata": {
      "needs_background": "light"
     },
     "output_type": "display_data"
    }
   ],
   "source": [
    "## plot test examples\n",
    "for i in range(len(covid_dataset_test)):\n",
    "    sample = covid_dataset_test[i]\n",
    "    print(i, sample['image'].shape, sample['img_name'])\n",
    "    ax = plt.subplot(1, 4, i + 1)\n",
    "    plt.tight_layout()\n",
    "    ax.set_title('Sample #{}'.format(i))\n",
    "    ax.axis('off')\n",
    "    plt.imshow(sample['image'].numpy().transpose(1,2,0))\n",
    "    if i == 3:\n",
    "        plt.show()\n",
    "        break"
   ]
  },
  {
   "cell_type": "markdown",
   "metadata": {
    "id": "ZV7i3Ov9REFZ"
   },
   "source": [
    "##Split given train set to train & val set"
   ]
  },
  {
   "cell_type": "code",
   "execution_count": null,
   "metadata": {
    "colab": {
     "base_uri": "https://localhost:8080/"
    },
    "id": "EiA6ycQE1wXu",
    "outputId": "783ffd46-7de3-4c28-febb-d2286f7320a2"
   },
   "outputs": [
    {
     "name": "stdout",
     "output_type": "stream",
     "text": [
      "3053\n",
      "2137 916\n"
     ]
    }
   ],
   "source": [
    "## split given train set to train & val set\n",
    "\n",
    "#dataloader = DataLoader(covid_dataset, batch_size=4, shuffle=True, num_workers=0)\n",
    "print(len(covid_dataset_train_val))\n",
    "train_size = int(0.7 * len(covid_dataset_train_val))\n",
    "val_size = len(covid_dataset_train_val) - train_size\n",
    "print(train_size, val_size)\n",
    "train_dataset, val_dataset = torch.utils.data.random_split(covid_dataset_train_val, [train_size, val_size])\n",
    "train_dataloader = DataLoader(train_dataset, batch_size=8, shuffle=True, num_workers=0)\n",
    "val_dataloader = DataLoader(val_dataset, batch_size=8, shuffle=True, num_workers=0)\n",
    "\n",
    "## test set\n",
    "test_dataloader = DataLoader(covid_dataset_test, batch_size=8, shuffle=True, num_workers=0)"
   ]
  },
  {
   "cell_type": "markdown",
   "metadata": {
    "id": "OClBrnNnRK_t"
   },
   "source": [
    "## Import pretrained models library"
   ]
  },
  {
   "cell_type": "code",
   "execution_count": null,
   "metadata": {
    "colab": {
     "base_uri": "https://localhost:8080/"
    },
    "id": "sIQiUJcyvJ1y",
    "outputId": "ca85798e-3a51-4491-9d5e-b0ad790cf206"
   },
   "outputs": [
    {
     "name": "stdout",
     "output_type": "stream",
     "text": [
      "Requirement already satisfied: pretrainedmodels in /usr/local/lib/python3.7/dist-packages (0.7.4)\n",
      "Requirement already satisfied: torch in /usr/local/lib/python3.7/dist-packages (from pretrainedmodels) (1.10.0+cu111)\n",
      "Requirement already satisfied: munch in /usr/local/lib/python3.7/dist-packages (from pretrainedmodels) (2.5.0)\n",
      "Requirement already satisfied: torchvision in /usr/local/lib/python3.7/dist-packages (from pretrainedmodels) (0.11.1+cu111)\n",
      "Requirement already satisfied: tqdm in /usr/local/lib/python3.7/dist-packages (from pretrainedmodels) (4.62.3)\n",
      "Requirement already satisfied: six in /usr/local/lib/python3.7/dist-packages (from munch->pretrainedmodels) (1.15.0)\n",
      "Requirement already satisfied: typing-extensions in /usr/local/lib/python3.7/dist-packages (from torch->pretrainedmodels) (3.10.0.2)\n",
      "Requirement already satisfied: numpy in /usr/local/lib/python3.7/dist-packages (from torchvision->pretrainedmodels) (1.19.5)\n",
      "Requirement already satisfied: pillow!=8.3.0,>=5.3.0 in /usr/local/lib/python3.7/dist-packages (from torchvision->pretrainedmodels) (7.1.2)\n"
     ]
    }
   ],
   "source": [
    "## use imagenet pretrained model\n",
    "## let's start with resnet34\n",
    "!pip install pretrainedmodels"
   ]
  },
  {
   "cell_type": "markdown",
   "metadata": {
    "id": "NJTMiALSRRHC"
   },
   "source": [
    "## Use CUDA to speed up training"
   ]
  },
  {
   "cell_type": "code",
   "execution_count": null,
   "metadata": {
    "colab": {
     "base_uri": "https://localhost:8080/"
    },
    "id": "1BT-6cVxs_iT",
    "outputId": "f446005e-6047-4eb0-f626-7ce498474049"
   },
   "outputs": [
    {
     "name": "stdout",
     "output_type": "stream",
     "text": [
      "cuda:0\n"
     ]
    }
   ],
   "source": [
    "device = torch.device(\"cuda:0\" if torch.cuda.is_available() else \"cpu\")\n",
    "print(device)"
   ]
  },
  {
   "cell_type": "markdown",
   "metadata": {
    "id": "wqPiUx1XRbIL"
   },
   "source": [
    "## Create Baseline Model"
   ]
  },
  {
   "cell_type": "code",
   "execution_count": null,
   "metadata": {
    "id": "6DIFuG0hvZn7"
   },
   "outputs": [],
   "source": [
    "import pretrainedmodels\n",
    "#For model building\n",
    "import torch\n",
    "from torch import nn, optim\n",
    "import torchvision\n",
    "from torch.nn import functional as F\n",
    "\n",
    "class CNN1(nn.Module):\n",
    "    def __init__(self, pretrained=True):\n",
    "        super(CNN1, self).__init__()\n",
    "        if pretrained is True:\n",
    "            self.model = pretrainedmodels.__dict__[\"resnet34\"](pretrained=\"imagenet\")\n",
    "        else:\n",
    "            self.model = pretrainedmodels.__dict__[\"resnet34\"](pretrained=None)\n",
    "        #self.fc1 = nn.Linear(512, 256)\n",
    "        self.conv1 = nn.Conv2d(512, 128, (5,5), stride=1, padding =0)\n",
    "        self.conv2 = nn.Conv2d(128, 32, (5,5), stride=1, padding =0)\n",
    "        self.dropout = nn.Dropout(p=0.5)\n",
    "        self.conv3 = nn.Conv2d(32, 8, (5,5), stride=1, padding =0)\n",
    "        self.fc1 = nn.Linear(128, 1)\n",
    "        \n",
    "    def forward(self, x):\n",
    "        bs, _, _, _ = x.shape\n",
    "        x = self.model.features(x)\n",
    "        #x = F.adaptive_avg_pool2d(x) #.reshape(bs, -1)\n",
    "        #x = F.relu(self.fc1(x))\n",
    "        x = self.conv1(x)\n",
    "        x = self.conv2(x)\n",
    "        x = self.dropout(x)\n",
    "        x = self.conv3(F.relu(x))\n",
    "        #print(x.size()) # [8, 8, 4, 4]\n",
    "        label = self.fc1(x.reshape(bs, -1))  # [8, 128]\n",
    "        return label"
   ]
  },
  {
   "cell_type": "code",
   "execution_count": null,
   "metadata": {
    "id": "ufc5DuRU_8VO"
   },
   "outputs": [],
   "source": [
    "#Setting model and moving to device\n",
    "model_CNN = CNN1(True).to(device)\n",
    "\n",
    "criterion = nn.L1Loss()\n",
    "#optimizer = optim.SGD(model_CNN.parameters(), lr=0.001, momentum=0.9)\n",
    "optimizer = optim.Adam(model_CNN.parameters(), lr=0.001)"
   ]
  },
  {
   "cell_type": "code",
   "execution_count": null,
   "metadata": {
    "id": "O42uOYtUAK2D"
   },
   "outputs": [],
   "source": [
    "def train_model(model, criterion, optimizer, n_epochs=20):\n",
    "    \"\"\"returns trained model\"\"\"\n",
    "    # initialize tracker for minimum validation loss\n",
    "    valid_loss_min = np.Inf\n",
    "    for epoch in range(1, n_epochs):\n",
    "        train_loss = 0.0\n",
    "        valid_loss = 0.0\n",
    "        # train the model #\n",
    "        model.train()\n",
    "        for batch_idx, sample_batched in enumerate(train_dataloader):\n",
    "            # importing data and moving to GPU\n",
    "            image, label = sample_batched['image'].to(device), sample_batched['percentage'].to(device)\n",
    "            # zero the parameter gradients\n",
    "            optimizer.zero_grad()\n",
    "            output=model(image).reshape(-1)\n",
    "            # calculate loss\n",
    "            loss = criterion((output).type(torch.FloatTensor).to(device), label.type(torch.FloatTensor).to(device))\n",
    "            # back prop\n",
    "            loss.backward()\n",
    "            # grad\n",
    "            optimizer.step()\n",
    "            train_loss = train_loss + ((1 / (batch_idx + 1)) * (loss.data - train_loss))\n",
    "            if batch_idx % 100 == 0:\n",
    "                print('Epoch %d, Batch %d loss: %.6f' %\n",
    "                  (epoch, batch_idx + 1, train_loss))\n",
    "        # validate the model #\n",
    "        model.eval()\n",
    "        for batch_idx, sample_batched in enumerate(val_dataloader):\n",
    "            image, label = sample_batched['image'].to(device), sample_batched['percentage'].to(device)  \n",
    "            output = model(image).reshape(-1)\n",
    "            # calculate loss\n",
    "            loss=criterion((output).type(torch.FloatTensor).to(device), label.type(torch.FloatTensor).to(device))\n",
    "            valid_loss = valid_loss + ((1 / (batch_idx + 1)) * (loss.data - valid_loss))\n",
    "        \n",
    "        # print training/validation statistics \n",
    "        print('Epoch: {} \\tTraining Loss: {:.6f} \\tValidation Loss: {:.6f}'.format(\n",
    "            epoch, train_loss, valid_loss))\n",
    "        \n",
    "        ## TODO: save the model if validation loss has decreased\n",
    "        if valid_loss < valid_loss_min:\n",
    "            torch.save(model, 'drive/MyDrive/DL_Project/model.pt')\n",
    "            print('Validation loss decreased ({:.6f} --> {:.6f}).  Saving model ...'.format(\n",
    "            valid_loss_min,\n",
    "            valid_loss))\n",
    "            valid_loss_min = valid_loss\n",
    "    # return trained model\n",
    "    return model"
   ]
  },
  {
   "cell_type": "code",
   "execution_count": null,
   "metadata": {
    "colab": {
     "base_uri": "https://localhost:8080/"
    },
    "id": "pRcDzZQnAScu",
    "outputId": "3f8eea72-b3f1-4568-9744-019a0b4b301a"
   },
   "outputs": [
    {
     "name": "stdout",
     "output_type": "stream",
     "text": [
      "Epoch 1, Batch 1 loss: 16.197865\n",
      "Epoch 1, Batch 101 loss: 15.668919\n",
      "Epoch 1, Batch 201 loss: 17.372765\n",
      "Epoch: 1 \tTraining Loss: 18.042931 \tValidation Loss: 15.956521\n",
      "Validation loss decreased (inf --> 15.956521).  Saving model ...\n",
      "Epoch 2, Batch 1 loss: 27.124233\n",
      "Epoch 2, Batch 101 loss: 17.747414\n",
      "Epoch 2, Batch 201 loss: 17.060146\n",
      "Epoch: 2 \tTraining Loss: 17.064001 \tValidation Loss: 17.130402\n",
      "Epoch 3, Batch 1 loss: 25.492989\n",
      "Epoch 3, Batch 101 loss: 19.714798\n",
      "Epoch 3, Batch 201 loss: 18.825893\n",
      "Epoch: 3 \tTraining Loss: 18.166977 \tValidation Loss: 16.622173\n",
      "Epoch 4, Batch 1 loss: 23.506935\n",
      "Epoch 4, Batch 101 loss: 18.805151\n",
      "Epoch 4, Batch 201 loss: 17.981487\n",
      "Epoch: 4 \tTraining Loss: 17.528385 \tValidation Loss: 15.979118\n",
      "Epoch 5, Batch 1 loss: 18.084160\n",
      "Epoch 5, Batch 101 loss: 16.466932\n",
      "Epoch 5, Batch 201 loss: 16.725460\n",
      "Epoch: 5 \tTraining Loss: 16.867290 \tValidation Loss: 15.671663\n",
      "Validation loss decreased (15.956521 --> 15.671663).  Saving model ...\n",
      "Epoch 6, Batch 1 loss: 18.497730\n",
      "Epoch 6, Batch 101 loss: 17.287319\n",
      "Epoch 6, Batch 201 loss: 16.988514\n",
      "Epoch: 6 \tTraining Loss: 16.838144 \tValidation Loss: 15.671308\n",
      "Validation loss decreased (15.671663 --> 15.671308).  Saving model ...\n",
      "Epoch 7, Batch 1 loss: 19.375000\n",
      "Epoch 7, Batch 101 loss: 14.917410\n",
      "Epoch 7, Batch 201 loss: 16.585518\n",
      "Epoch: 7 \tTraining Loss: 16.705500 \tValidation Loss: 15.671056\n",
      "Validation loss decreased (15.671308 --> 15.671056).  Saving model ...\n",
      "Epoch 8, Batch 1 loss: 28.351597\n",
      "Epoch 8, Batch 101 loss: 15.840234\n",
      "Epoch 8, Batch 201 loss: 16.979467\n",
      "Epoch: 8 \tTraining Loss: 16.677029 \tValidation Loss: 15.747328\n",
      "Epoch 9, Batch 1 loss: 19.500000\n",
      "Epoch 9, Batch 101 loss: 16.588640\n",
      "Epoch 9, Batch 201 loss: 16.560221\n",
      "Epoch: 9 \tTraining Loss: 16.721533 \tValidation Loss: 15.660077\n",
      "Validation loss decreased (15.671056 --> 15.660077).  Saving model ...\n",
      "Epoch 10, Batch 1 loss: 21.375000\n",
      "Epoch 10, Batch 101 loss: 17.304525\n",
      "Epoch 10, Batch 201 loss: 16.818129\n",
      "Epoch: 10 \tTraining Loss: 16.724365 \tValidation Loss: 15.656732\n",
      "Validation loss decreased (15.660077 --> 15.656732).  Saving model ...\n",
      "Epoch 11, Batch 1 loss: 34.875000\n",
      "Epoch 11, Batch 101 loss: 17.852810\n",
      "Epoch 11, Batch 201 loss: 17.078751\n",
      "Epoch: 11 \tTraining Loss: 16.741039 \tValidation Loss: 15.648703\n",
      "Validation loss decreased (15.656732 --> 15.648703).  Saving model ...\n",
      "Epoch 12, Batch 1 loss: 5.977373\n",
      "Epoch 12, Batch 101 loss: 15.657394\n",
      "Epoch 12, Batch 201 loss: 16.323891\n",
      "Epoch: 12 \tTraining Loss: 16.946436 \tValidation Loss: 15.735330\n",
      "Epoch 13, Batch 1 loss: 15.607717\n",
      "Epoch 13, Batch 101 loss: 16.601166\n",
      "Epoch 13, Batch 201 loss: 16.682714\n",
      "Epoch: 13 \tTraining Loss: 16.690620 \tValidation Loss: 15.660879\n",
      "Epoch 14, Batch 1 loss: 13.820418\n",
      "Epoch 14, Batch 101 loss: 15.605266\n",
      "Epoch 14, Batch 201 loss: 16.125288\n",
      "Epoch: 14 \tTraining Loss: 16.670553 \tValidation Loss: 15.722775\n",
      "Epoch 15, Batch 1 loss: 10.720123\n",
      "Epoch 15, Batch 101 loss: 17.345238\n",
      "Epoch 15, Batch 201 loss: 16.886797\n",
      "Epoch: 15 \tTraining Loss: 16.681925 \tValidation Loss: 15.647611\n",
      "Validation loss decreased (15.648703 --> 15.647611).  Saving model ...\n",
      "Epoch 16, Batch 1 loss: 9.645567\n",
      "Epoch 16, Batch 101 loss: 16.438522\n",
      "Epoch 16, Batch 201 loss: 16.599863\n",
      "Epoch: 16 \tTraining Loss: 16.770962 \tValidation Loss: 15.735497\n",
      "Epoch 17, Batch 1 loss: 20.946777\n",
      "Epoch 17, Batch 101 loss: 16.212690\n",
      "Epoch 17, Batch 201 loss: 16.979267\n",
      "Epoch: 17 \tTraining Loss: 16.665182 \tValidation Loss: 15.692541\n",
      "Epoch 18, Batch 1 loss: 8.772604\n",
      "Epoch 18, Batch 101 loss: 17.165407\n",
      "Epoch 18, Batch 201 loss: 16.804274\n",
      "Epoch: 18 \tTraining Loss: 16.685116 \tValidation Loss: 15.680692\n",
      "Epoch 19, Batch 1 loss: 9.121724\n",
      "Epoch 19, Batch 101 loss: 16.497932\n",
      "Epoch 19, Batch 201 loss: 16.792456\n",
      "Epoch: 19 \tTraining Loss: 16.853191 \tValidation Loss: 15.653085\n"
     ]
    }
   ],
   "source": [
    "model_conv=train_model(model_CNN, criterion, optimizer)"
   ]
  },
  {
   "cell_type": "code",
   "execution_count": null,
   "metadata": {
    "id": "0-TDjNZblDCd"
   },
   "outputs": [],
   "source": []
  },
  {
   "cell_type": "markdown",
   "metadata": {
    "id": "IJePsT4QUDdh"
   },
   "source": [
    "## Save result on Actual Val Data to csv File"
   ]
  },
  {
   "cell_type": "code",
   "execution_count": null,
   "metadata": {
    "id": "fxAQKYA4UJvj"
   },
   "outputs": [],
   "source": [
    "df = pd.DataFrame(columns=['image_name','output'])\n",
    "for batch_idx, sample_batched in enumerate(test_dataloader):\n",
    "    image= sample_batched['image'].to(device)\n",
    "    img_name= sample_batched['img_name']\n",
    "    output = model_conv(image).type(torch.LongTensor).reshape(-1)\n",
    "    img_name = np.array(img_name).reshape(output.shape[0],1)\n",
    "    o = output.cpu().data.numpy().reshape(output.shape[0],1)\n",
    "    a = np.concatenate((img_name,o),axis=1)\n",
    "    df = df.append(pd.DataFrame(a, columns=df.columns), ignore_index=True)\n",
    "    "
   ]
  },
  {
   "cell_type": "code",
   "execution_count": null,
   "metadata": {
    "id": "hxgoKACBUL_7"
   },
   "outputs": [],
   "source": [
    "#Extracting image name from the image path\n",
    "df['image_name']=df['image_name'].str.split(\"/\").str[-1]"
   ]
  },
  {
   "cell_type": "code",
   "execution_count": null,
   "metadata": {
    "id": "wuzUlqPkpxtD"
   },
   "outputs": [],
   "source": [
    "df.to_csv('drive/MyDrive/DL_Project/predictions.csv', index=False, header=False)"
   ]
  },
  {
   "cell_type": "code",
   "execution_count": null,
   "metadata": {
    "colab": {
     "base_uri": "https://localhost:8080/",
     "height": 206
    },
    "id": "QjB_0dx-DQ0s",
    "outputId": "e2478e79-92d7-4577-a2db-57cc74d5bcd5"
   },
   "outputs": [
    {
     "data": {
      "text/html": [
       "\n",
       "  <div id=\"df-d562ecd4-a22c-4790-a443-cd6297e21a04\">\n",
       "    <div class=\"colab-df-container\">\n",
       "      <div>\n",
       "<style scoped>\n",
       "    .dataframe tbody tr th:only-of-type {\n",
       "        vertical-align: middle;\n",
       "    }\n",
       "\n",
       "    .dataframe tbody tr th {\n",
       "        vertical-align: top;\n",
       "    }\n",
       "\n",
       "    .dataframe thead th {\n",
       "        text-align: right;\n",
       "    }\n",
       "</style>\n",
       "<table border=\"1\" class=\"dataframe\">\n",
       "  <thead>\n",
       "    <tr style=\"text-align: right;\">\n",
       "      <th></th>\n",
       "      <th>image_name</th>\n",
       "      <th>output</th>\n",
       "    </tr>\n",
       "  </thead>\n",
       "  <tbody>\n",
       "    <tr>\n",
       "      <th>0</th>\n",
       "      <td>Image_0866.png</td>\n",
       "      <td>6</td>\n",
       "    </tr>\n",
       "    <tr>\n",
       "      <th>1</th>\n",
       "      <td>Image_0547.png</td>\n",
       "      <td>6</td>\n",
       "    </tr>\n",
       "    <tr>\n",
       "      <th>2</th>\n",
       "      <td>Image_0301.png</td>\n",
       "      <td>6</td>\n",
       "    </tr>\n",
       "    <tr>\n",
       "      <th>3</th>\n",
       "      <td>Image_0860.png</td>\n",
       "      <td>6</td>\n",
       "    </tr>\n",
       "    <tr>\n",
       "      <th>4</th>\n",
       "      <td>Image_0395.png</td>\n",
       "      <td>6</td>\n",
       "    </tr>\n",
       "  </tbody>\n",
       "</table>\n",
       "</div>\n",
       "      <button class=\"colab-df-convert\" onclick=\"convertToInteractive('df-d562ecd4-a22c-4790-a443-cd6297e21a04')\"\n",
       "              title=\"Convert this dataframe to an interactive table.\"\n",
       "              style=\"display:none;\">\n",
       "        \n",
       "  <svg xmlns=\"http://www.w3.org/2000/svg\" height=\"24px\"viewBox=\"0 0 24 24\"\n",
       "       width=\"24px\">\n",
       "    <path d=\"M0 0h24v24H0V0z\" fill=\"none\"/>\n",
       "    <path d=\"M18.56 5.44l.94 2.06.94-2.06 2.06-.94-2.06-.94-.94-2.06-.94 2.06-2.06.94zm-11 1L8.5 8.5l.94-2.06 2.06-.94-2.06-.94L8.5 2.5l-.94 2.06-2.06.94zm10 10l.94 2.06.94-2.06 2.06-.94-2.06-.94-.94-2.06-.94 2.06-2.06.94z\"/><path d=\"M17.41 7.96l-1.37-1.37c-.4-.4-.92-.59-1.43-.59-.52 0-1.04.2-1.43.59L10.3 9.45l-7.72 7.72c-.78.78-.78 2.05 0 2.83L4 21.41c.39.39.9.59 1.41.59.51 0 1.02-.2 1.41-.59l7.78-7.78 2.81-2.81c.8-.78.8-2.07 0-2.86zM5.41 20L4 18.59l7.72-7.72 1.47 1.35L5.41 20z\"/>\n",
       "  </svg>\n",
       "      </button>\n",
       "      \n",
       "  <style>\n",
       "    .colab-df-container {\n",
       "      display:flex;\n",
       "      flex-wrap:wrap;\n",
       "      gap: 12px;\n",
       "    }\n",
       "\n",
       "    .colab-df-convert {\n",
       "      background-color: #E8F0FE;\n",
       "      border: none;\n",
       "      border-radius: 50%;\n",
       "      cursor: pointer;\n",
       "      display: none;\n",
       "      fill: #1967D2;\n",
       "      height: 32px;\n",
       "      padding: 0 0 0 0;\n",
       "      width: 32px;\n",
       "    }\n",
       "\n",
       "    .colab-df-convert:hover {\n",
       "      background-color: #E2EBFA;\n",
       "      box-shadow: 0px 1px 2px rgba(60, 64, 67, 0.3), 0px 1px 3px 1px rgba(60, 64, 67, 0.15);\n",
       "      fill: #174EA6;\n",
       "    }\n",
       "\n",
       "    [theme=dark] .colab-df-convert {\n",
       "      background-color: #3B4455;\n",
       "      fill: #D2E3FC;\n",
       "    }\n",
       "\n",
       "    [theme=dark] .colab-df-convert:hover {\n",
       "      background-color: #434B5C;\n",
       "      box-shadow: 0px 1px 3px 1px rgba(0, 0, 0, 0.15);\n",
       "      filter: drop-shadow(0px 1px 2px rgba(0, 0, 0, 0.3));\n",
       "      fill: #FFFFFF;\n",
       "    }\n",
       "  </style>\n",
       "\n",
       "      <script>\n",
       "        const buttonEl =\n",
       "          document.querySelector('#df-d562ecd4-a22c-4790-a443-cd6297e21a04 button.colab-df-convert');\n",
       "        buttonEl.style.display =\n",
       "          google.colab.kernel.accessAllowed ? 'block' : 'none';\n",
       "\n",
       "        async function convertToInteractive(key) {\n",
       "          const element = document.querySelector('#df-d562ecd4-a22c-4790-a443-cd6297e21a04');\n",
       "          const dataTable =\n",
       "            await google.colab.kernel.invokeFunction('convertToInteractive',\n",
       "                                                     [key], {});\n",
       "          if (!dataTable) return;\n",
       "\n",
       "          const docLinkHtml = 'Like what you see? Visit the ' +\n",
       "            '<a target=\"_blank\" href=https://colab.research.google.com/notebooks/data_table.ipynb>data table notebook</a>'\n",
       "            + ' to learn more about interactive tables.';\n",
       "          element.innerHTML = '';\n",
       "          dataTable['output_type'] = 'display_data';\n",
       "          await google.colab.output.renderOutput(dataTable, element);\n",
       "          const docLink = document.createElement('div');\n",
       "          docLink.innerHTML = docLinkHtml;\n",
       "          element.appendChild(docLink);\n",
       "        }\n",
       "      </script>\n",
       "    </div>\n",
       "  </div>\n",
       "  "
      ],
      "text/plain": [
       "       image_name output\n",
       "0  Image_0866.png      6\n",
       "1  Image_0547.png      6\n",
       "2  Image_0301.png      6\n",
       "3  Image_0860.png      6\n",
       "4  Image_0395.png      6"
      ]
     },
     "execution_count": 40,
     "metadata": {},
     "output_type": "execute_result"
    }
   ],
   "source": [
    "df.head()"
   ]
  },
  {
   "cell_type": "markdown",
   "metadata": {
    "id": "iMJCiCG-M1Ut"
   },
   "source": [
    "## Points to note:\n",
    "\n",
    "General Rules: Participants should estimate the percentage of Covid-19 infection from each slice using Machine Learning. **Only ImageNet's pre-trained models and Lung Nodule Segmentation models are allowed**. The use of external data or other pre-trained models is not allowed. The models must be trained using the training data and evaluated using the validation data.\n",
    "\n",
    "##Things you can try:\n",
    "\n",
    "- The dataset is not as big and especially negative covid images are very few.\n",
    "It would be better to use k-fold cross validation rather than conventional splitting.\n",
    "- How would you split image splices from the same patient subject into train & val set?\n",
    "- How would the information on the patient (subject #) help your prediction?\n",
    "- What kind of preprocessing/data augmentation method help your model? What kind of methods would actually make your model perform worse?\n",
    "- What other different CNN architectures could you explore to acheive lower MAE?\n",
    "- Explore different optimizers, loss combinations, etc\n",
    "- Explore different regularization methods\n",
    "\n",
    "This is no way an exhaustive list. You might get a better idea by reading relevant research papers. Good luck!"
   ]
  },
  {
   "cell_type": "code",
   "execution_count": null,
   "metadata": {
    "id": "fVwLtw1piBcj"
   },
   "outputs": [],
   "source": []
  }
 ],
 "metadata": {
  "colab": {
   "collapsed_sections": [],
   "name": "covid19_starter_code_final.ipynb",
   "provenance": []
  },
  "kernelspec": {
   "display_name": "Python 3 (ipykernel)",
   "language": "python",
   "name": "python3"
  },
  "language_info": {
   "codemirror_mode": {
    "name": "ipython",
    "version": 3
   },
   "file_extension": ".py",
   "mimetype": "text/x-python",
   "name": "python",
   "nbconvert_exporter": "python",
   "pygments_lexer": "ipython3",
   "version": "3.9.10+"
  }
 },
 "nbformat": 4,
 "nbformat_minor": 1
}
