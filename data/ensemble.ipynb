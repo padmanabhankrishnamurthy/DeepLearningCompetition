{
 "cells": [
  {
   "cell_type": "code",
   "execution_count": 163,
   "metadata": {},
   "outputs": [],
   "source": [
    "import os\n",
    "import numpy as np\n",
    "import pandas as pd\n",
    "import random\n",
    "import itertools"
   ]
  },
  {
   "cell_type": "code",
   "execution_count": 117,
   "metadata": {},
   "outputs": [],
   "source": [
    "cols = ['file', 'percent']"
   ]
  },
  {
   "cell_type": "code",
   "execution_count": 212,
   "metadata": {},
   "outputs": [],
   "source": [
    "# files = [os.path.join('best_predictions', file) for file in ['5_41.csv', '6_52.csv']]\n",
    "files = os.listdir('best_predictions')\n",
    "\n",
    "files = [os.path.join('best_predictions', file) for file in files if '.csv' in file]\n",
    "# select only loss in 5s\n",
    "files = [file for file in files if int(file.split('/')[1].split('_')[0])==5]\n",
    "# # further filter by decimal value\n",
    "files = [file for file in files if int(file.split('/')[1].split('_')[1].split('.')[0])<=70]\n",
    "files = sorted(files)[:5]\n",
    "\n",
    "files = ['best_predictions/5_14.csv', 'best_predictions/5_15.csv', 'best_predictions/5_16.csv']\n",
    "\n",
    "# files = random.sample(files, 5)\n",
    "# combinations = itertools.combinations(files, 2)\n",
    "# combinations = list(combinations)\n",
    "# print(len(combinations), combinations)\n",
    "# # for combination in combinations:\n",
    "# #     print(combination)\n",
    "\n",
    "dfs = [pd.read_csv(file, names=cols) for file in files]\n",
    "# dfs_dict = {file:pd.read_csv(file, names=cols) for file in files}\n",
    "# dfs_dict.keys()"
   ]
  },
  {
   "cell_type": "code",
   "execution_count": 213,
   "metadata": {},
   "outputs": [
    {
     "name": "stdout",
     "output_type": "stream",
     "text": [
      "3\n",
      "['best_predictions/5_14.csv', 'best_predictions/5_15.csv', 'best_predictions/5_16.csv']\n"
     ]
    }
   ],
   "source": [
    "print(len(files))\n",
    "print(files)"
   ]
  },
  {
   "cell_type": "code",
   "execution_count": 214,
   "metadata": {},
   "outputs": [],
   "source": [
    "ensemble = []\n",
    "for i in range(len(dfs[0])):\n",
    "    percents = [dfs[ctr].iloc[i].percent for ctr in range(len(dfs))]\n",
    "\n",
    "    # set mean to 0 if any single one is 0\n",
    "    if not all([percent != 0 for percent in percents]):\n",
    "        ensemble_percent = 0\n",
    "    else:\n",
    "        ensemble_percent = float(sum(percents)/len(percents))\n",
    "\n",
    "    # ensemble_percent = int((p1+p2)/2)\n",
    "    ensemble.append([dfs[0].iloc[i].file, ensemble_percent])\n",
    "\n",
    "ensemble_df = pd.DataFrame(ensemble, columns=cols)"
   ]
  },
  {
   "cell_type": "code",
   "execution_count": 215,
   "metadata": {},
   "outputs": [],
   "source": [
    "ensemble_df.to_csv('predictions.csv', index=False, header=False)"
   ]
  },
  {
   "cell_type": "code",
   "execution_count": 216,
   "metadata": {},
   "outputs": [
    {
     "data": {
      "text/plain": [
       "0"
      ]
     },
     "execution_count": 216,
     "metadata": {},
     "output_type": "execute_result"
    }
   ],
   "source": [
    "os.system('zip ensemble_predictions/ensemble_3_ensembles_floats.zip predictions.csv')"
   ]
  }
 ],
 "metadata": {
  "interpreter": {
   "hash": "aee8b7b246df8f9039afb4144a1f6fd8d2ca17a180786b69acc140d282b71a49"
  },
  "kernelspec": {
   "display_name": "Python 3.8.6 64-bit",
   "language": "python",
   "name": "python3"
  },
  "language_info": {
   "codemirror_mode": {
    "name": "ipython",
    "version": 3
   },
   "file_extension": ".py",
   "mimetype": "text/x-python",
   "name": "python",
   "nbconvert_exporter": "python",
   "pygments_lexer": "ipython3",
   "version": "3.8.6"
  },
  "orig_nbformat": 4
 },
 "nbformat": 4,
 "nbformat_minor": 2
}
