{
 "cells": [
  {
   "cell_type": "code",
   "execution_count": 120,
   "metadata": {},
   "outputs": [],
   "source": [
    "import pandas as pd\n",
    "import os "
   ]
  },
  {
   "cell_type": "code",
   "execution_count": 127,
   "metadata": {},
   "outputs": [],
   "source": [
    "file = 'ensemble_predictions/predictions.csv'\n",
    "tag = 'ensemble_3_ensembles_floats_loss'\n",
    "df = pd.read_csv(file, names=['file', 'percent'])"
   ]
  },
  {
   "cell_type": "code",
   "execution_count": 128,
   "metadata": {},
   "outputs": [
    {
     "name": "stdout",
     "output_type": "stream",
     "text": [
      "file       Image_0592.png\n",
      "percent          3.095238\n",
      "Name: 592, dtype: object\n",
      "file       Image_0592.png\n",
      "percent               0.0\n",
      "Name: 592, dtype: object\n",
      "\n",
      "file       Image_0637.png\n",
      "percent          2.395238\n",
      "Name: 637, dtype: object\n",
      "file       Image_0637.png\n",
      "percent               0.0\n",
      "Name: 637, dtype: object\n",
      "\n",
      "2  Values Changed to 0\n"
     ]
    }
   ],
   "source": [
    "num_rows = len(df)\n",
    "new_df = df.copy(deep=True)\n",
    "\n",
    "# df = df[5:]\n",
    "\n",
    "window_size = 3\n",
    "\n",
    "start_i = window_size\n",
    "num_changes = 0\n",
    "for i in range(window_size, num_rows-window_size):\n",
    "    # if i-start_i == 3:\n",
    "    #     break\n",
    "    current_row = df.iloc[i]\n",
    "    backward = df.iloc[i-window_size:i]\n",
    "    forward= df.iloc[i+1:i+window_size+1]\n",
    "    context = pd.concat([backward, forward], axis=0)\n",
    "    \n",
    "    zero_count = context[context.percent == 0]['percent'].count()\n",
    "    non_zero_count = context[context.percent != 0]['percent'].count()\n",
    "\n",
    "    # print(backward)\n",
    "    # print('***', current_row.file, '\\t', current_row.percent)\n",
    "    # print(forward)\n",
    "    # print(zero_count, non_zero_count)\n",
    "    # print('======')\n",
    "\n",
    "    if (zero_count > non_zero_count) and current_row.percent != 0:\n",
    "        # print('YES')\n",
    "        print(new_df.iloc[i])\n",
    "        new_df.iat[i, 1] = 0\n",
    "        num_changes+=1\n",
    "        print(new_df.iloc[i])\n",
    "        print()\n",
    "\n",
    "    # naive interpolation\n",
    "    \n",
    "\n",
    "print(num_changes, ' Values Changed to 0')"
   ]
  },
  {
   "cell_type": "code",
   "execution_count": null,
   "metadata": {},
   "outputs": [],
   "source": [
    "num_rows = len(df)\n",
    "new_df = df.copy(deep=True)\n",
    "\n",
    "# df = df[5:]\n",
    "\n",
    "window_size = 3\n",
    "num_changes = 0\n",
    "\n",
    "for i in range(window_size, num_rows-window_size):\n",
    "    current_row = df.iloc[i]\n",
    "    backward = df.iloc[i-window_size:i]\n",
    "    forward= df.iloc[i+1:i+window_size+1]\n",
    "    context = pd.concat([backward, forward], axis=0)\n",
    "    \n",
    "    zero_count = context[context.percent == 0]['percent'].count()\n",
    "    non_zero_count = context[context.percent != 0]['percent'].count()\n",
    "\n",
    "    if (zero_count > non_zero_count) and current_row.percent != 0:\n",
    "        new_df.iat[i, 1] = 0\n",
    "        num_changes+=1\n",
    "\n",
    "    \n",
    "\n",
    "print(num_changes, ' Values Changed to 0')"
   ]
  },
  {
   "cell_type": "code",
   "execution_count": 129,
   "metadata": {},
   "outputs": [
    {
     "data": {
      "text/plain": [
       "0"
      ]
     },
     "execution_count": 129,
     "metadata": {},
     "output_type": "execute_result"
    }
   ],
   "source": [
    "# os.system('mv predictions.csv predictions_old.csv')\n",
    "new_df.to_csv('predictions.csv', index=False, header=False)\n",
    "os.system(f'zip ensemble_predictions/ensemble_{tag}_processed.zip predictions.csv')"
   ]
  },
  {
   "cell_type": "code",
   "execution_count": null,
   "metadata": {},
   "outputs": [],
   "source": []
  }
 ],
 "metadata": {
  "interpreter": {
   "hash": "aee8b7b246df8f9039afb4144a1f6fd8d2ca17a180786b69acc140d282b71a49"
  },
  "kernelspec": {
   "display_name": "Python 3.8.6 64-bit",
   "language": "python",
   "name": "python3"
  },
  "language_info": {
   "codemirror_mode": {
    "name": "ipython",
    "version": 3
   },
   "file_extension": ".py",
   "mimetype": "text/x-python",
   "name": "python",
   "nbconvert_exporter": "python",
   "pygments_lexer": "ipython3",
   "version": "3.8.6"
  },
  "orig_nbformat": 4
 },
 "nbformat": 4,
 "nbformat_minor": 2
}
